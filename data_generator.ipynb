{
 "cells": [
  {
   "cell_type": "code",
   "execution_count": 3,
   "id": "9c810520",
   "metadata": {},
   "outputs": [],
   "source": [
    "import numpy as np\n",
    "from concorde.tsp import TSPSolver\n",
    "import pickle\n",
    "from multiprocessing import Pool\n",
    "import os\n",
    "import tqdm"
   ]
  },
  {
   "cell_type": "code",
   "execution_count": null,
   "id": "b6ccf749",
   "metadata": {},
   "outputs": [],
   "source": [
    "#args\n",
    "args = {'num_samples':1000,\n",
    "        'num_nodes':20,\n",
    "        'node_dim':2,\n",
    "        'filename':\"data/test/tsp20_test_concorde.txt\"\n",
    "        }\n",
    "opts=argparse.Namespace(**args)"
   ]
  },
  {
   "cell_type": "code",
   "execution_count": null,
   "id": "2f94d85e",
   "metadata": {},
   "outputs": [],
   "source": [
    "#generate train set or small test set with labels\n",
    "set_nodes_coord = np.random.random([opts.num_samples, opts.num_nodes, opts.node_dim])\n",
    "with open(opts.filename, \"w\") as f:\n",
    "    start_time = time.time()\n",
    "    for nodes_coord in set_nodes_coord:\n",
    "        solver = TSPSolver.from_data(nodes_coord[:,0], nodes_coord[:,1], norm=\"GEO\")  \n",
    "        solution = solver.solve()\n",
    "        f.write( \" \".join( str(x)+str(\" \")+str(y) for x,y in nodes_coord) )\n",
    "        f.write( str(\" \") + str('output') + str(\" \") )\n",
    "        f.write( str(\" \").join( str(node_idx+1) for node_idx in solution.tour) )\n",
    "        f.write( str(\" \") + str(solution.tour[0]+1) + str(\" \") )\n",
    "        f.write( \"\\n\" )\n",
    "    end_time = time.time() - start_time"
   ]
  },
  {
   "cell_type": "code",
   "execution_count": null,
   "id": "03976a4a",
   "metadata": {},
   "outputs": [],
   "source": [
    "#generate small & medium scale test set\n",
    "os.makedirs(\"test\", exist_ok=True)\n",
    "n_samples = 1000\n",
    "for nodes in [100,200,500,1000]:\n",
    "    np.random.seed(1234)\n",
    "    x = np.random.uniform(size=[n_samples, nodes, 2])\n",
    "    with open(\"data/test/tsp\" + str(nodes) + \"_test.txt\", \"w\") as f:\n",
    "        for node_coord in x:\n",
    "            f.write( \" \".join( str(x)+str(\" \")+str(y) for x,y in node_coord) )\n",
    "            f.write( \"\\n\" )"
   ]
  },
  {
   "cell_type": "code",
   "execution_count": 4,
   "id": "fc5df970",
   "metadata": {},
   "outputs": [],
   "source": [
    "#generate large scale test set\n",
    "os.makedirs(\"test\", exist_ok=True)\n",
    "n_samples = 128\n",
    "for nodes in [2000, 5000, 10000]:\n",
    "    np.random.seed(1234)\n",
    "    x = np.random.uniform(size=[n_samples, nodes, 2])\n",
    "    with open(\"data/test/tsp\" + str(nodes) + \"_test.txt\", \"w\") as f:\n",
    "        for node_coord in x:\n",
    "            f.write( \" \".join( str(x)+str(\" \")+str(y) for x,y in node_coord) )\n",
    "            f.write( \"\\n\" )"
   ]
  },
  {
   "cell_type": "code",
   "execution_count": null,
   "id": "68f95284",
   "metadata": {},
   "outputs": [],
   "source": []
  }
 ],
 "metadata": {
  "kernelspec": {
   "display_name": "Python 3 (ipykernel)",
   "language": "python",
   "name": "python3"
  },
  "language_info": {
   "codemirror_mode": {
    "name": "ipython",
    "version": 3
   },
   "file_extension": ".py",
   "mimetype": "text/x-python",
   "name": "python",
   "nbconvert_exporter": "python",
   "pygments_lexer": "ipython3",
   "version": "3.11.5"
  }
 },
 "nbformat": 4,
 "nbformat_minor": 5
}
